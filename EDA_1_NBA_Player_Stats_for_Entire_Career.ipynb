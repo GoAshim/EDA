{
  "nbformat": 4,
  "nbformat_minor": 0,
  "metadata": {
    "colab": {
      "name": "EDA 1 - NBA Player Stats for Entire Career.ipynb",
      "provenance": [],
      "collapsed_sections": [],
      "mount_file_id": "1TK3qRni5SzEme12joMukSvwKbGBqAR9U",
      "authorship_tag": "ABX9TyMMrtjIPSbbAld8RQipuTJc",
      "include_colab_link": true
    },
    "kernelspec": {
      "name": "python3",
      "display_name": "Python 3"
    },
    "language_info": {
      "name": "python"
    }
  },
  "cells": [
    {
      "cell_type": "markdown",
      "metadata": {
        "id": "view-in-github",
        "colab_type": "text"
      },
      "source": [
        "<a href=\"https://colab.research.google.com/github/GoAshim/EDA/blob/main/EDA_1_NBA_Player_Stats_for_Entire_Career.ipynb\" target=\"_parent\"><img src=\"https://colab.research.google.com/assets/colab-badge.svg\" alt=\"Open In Colab\"/></a>"
      ]
    },
    {
      "cell_type": "markdown",
      "source": [
        "# Perform EDA on the entire career statistics of all NBA Players played in 2021-22 season.\n",
        "In this Exploratory Data Analysis (EDA) exercise we will work on the dataframe we created during previous web scraping assignment (link [here](https://github.com/GoAshim/WebScraping/blob/27939865ea33f8c5c1d43bd1941662de9908b8a3/Web_Scraping_3_NBA_Player_Stats_for_Entire_Career.ipynb)). We will analyze the dataframe and extract important information / statistics of the entire career of the players who played in NBA 2021-22 season."
      ],
      "metadata": {
        "id": "R8tmRRaRDY6Z"
      }
    },
    {
      "cell_type": "markdown",
      "source": [
        "## Step 1 - Import required libraries"
      ],
      "metadata": {
        "id": "jQ5vvlR42Aal"
      }
    },
    {
      "cell_type": "code",
      "source": [
        "import pandas as pd "
      ],
      "metadata": {
        "id": "7ydKpW-nDo9B"
      },
      "execution_count": 1,
      "outputs": []
    },
    {
      "cell_type": "markdown",
      "source": [
        "## Step 2 - Extract the dataset from the file and process the data in order to perform the Exploratory Data Analysis (EDA)  "
      ],
      "metadata": {
        "id": "jDjVtnAKA91x"
      }
    },
    {
      "cell_type": "markdown",
      "source": [
        "### Step 2.1 - Extract the content of the CSV data file and load to a dataframe"
      ],
      "metadata": {
        "id": "uF0LrCTf2jlP"
      }
    },
    {
      "cell_type": "code",
      "source": [
        "# Location of the CSV file in my Google Drive\n",
        "url = \"/content/drive/MyDrive/DataFiles/NBAPlayerStat.csv\"\n",
        "\n",
        "df1 = pd.read_csv(url)\n",
        "\n",
        "df1.head()"
      ],
      "metadata": {
        "id": "pv0O3BDfHcrR",
        "colab": {
          "base_uri": "https://localhost:8080/",
          "height": 235
        },
        "outputId": "38f5bc16-916e-449d-dbe2-d16afcce6c78"
      },
      "execution_count": 19,
      "outputs": [
        {
          "output_type": "execute_result",
          "data": {
            "text/plain": [
              "   Unnamed: 0  C1                C2       C3       C4  C5   C6   C7  C8  C9  \\\n",
              "0           0   1  Precious Achiuwa  Regular  2020-21  21  MIA  NBA  PF  61   \n",
              "1           1   1  Precious Achiuwa  Regular  2021-22  22  TOR  NBA   C  73   \n",
              "2           2   1  Precious Achiuwa  Playoff  2020-21  21  MIA  NBA  PF   3   \n",
              "3           3   1  Precious Achiuwa  Playoff  2021-22  22  TOR  NBA   C   6   \n",
              "4           0   2      Steven Adams  Regular  2013-14  20  OKC  NBA   C  81   \n",
              "\n",
              "   ...    C24  C25  C26  C27  C28  C29  C30  C31  C32   C33  \n",
              "0  ...  0.509  1.2  2.2  3.4  0.5  0.3  0.5  0.7  1.5   5.0  \n",
              "1  ...  0.595  2.0  4.5  6.5  1.1  0.5  0.6  1.2  2.1   9.1  \n",
              "2  ...  0.250  0.0  2.0  2.0  0.0  0.0  0.7  1.3  0.3   2.3  \n",
              "3  ...  0.600  1.3  3.5  4.8  1.0  0.2  0.8  1.5  2.3  10.2  \n",
              "4  ...  0.581  1.8  2.3  4.1  0.5  0.5  0.7  0.9  2.5   3.3  \n",
              "\n",
              "[5 rows x 34 columns]"
            ],
            "text/html": [
              "\n",
              "  <div id=\"df-7027806c-91ea-47ed-a7d9-c62d3e1ea11a\">\n",
              "    <div class=\"colab-df-container\">\n",
              "      <div>\n",
              "<style scoped>\n",
              "    .dataframe tbody tr th:only-of-type {\n",
              "        vertical-align: middle;\n",
              "    }\n",
              "\n",
              "    .dataframe tbody tr th {\n",
              "        vertical-align: top;\n",
              "    }\n",
              "\n",
              "    .dataframe thead th {\n",
              "        text-align: right;\n",
              "    }\n",
              "</style>\n",
              "<table border=\"1\" class=\"dataframe\">\n",
              "  <thead>\n",
              "    <tr style=\"text-align: right;\">\n",
              "      <th></th>\n",
              "      <th>Unnamed: 0</th>\n",
              "      <th>C1</th>\n",
              "      <th>C2</th>\n",
              "      <th>C3</th>\n",
              "      <th>C4</th>\n",
              "      <th>C5</th>\n",
              "      <th>C6</th>\n",
              "      <th>C7</th>\n",
              "      <th>C8</th>\n",
              "      <th>C9</th>\n",
              "      <th>...</th>\n",
              "      <th>C24</th>\n",
              "      <th>C25</th>\n",
              "      <th>C26</th>\n",
              "      <th>C27</th>\n",
              "      <th>C28</th>\n",
              "      <th>C29</th>\n",
              "      <th>C30</th>\n",
              "      <th>C31</th>\n",
              "      <th>C32</th>\n",
              "      <th>C33</th>\n",
              "    </tr>\n",
              "  </thead>\n",
              "  <tbody>\n",
              "    <tr>\n",
              "      <th>0</th>\n",
              "      <td>0</td>\n",
              "      <td>1</td>\n",
              "      <td>Precious Achiuwa</td>\n",
              "      <td>Regular</td>\n",
              "      <td>2020-21</td>\n",
              "      <td>21</td>\n",
              "      <td>MIA</td>\n",
              "      <td>NBA</td>\n",
              "      <td>PF</td>\n",
              "      <td>61</td>\n",
              "      <td>...</td>\n",
              "      <td>0.509</td>\n",
              "      <td>1.2</td>\n",
              "      <td>2.2</td>\n",
              "      <td>3.4</td>\n",
              "      <td>0.5</td>\n",
              "      <td>0.3</td>\n",
              "      <td>0.5</td>\n",
              "      <td>0.7</td>\n",
              "      <td>1.5</td>\n",
              "      <td>5.0</td>\n",
              "    </tr>\n",
              "    <tr>\n",
              "      <th>1</th>\n",
              "      <td>1</td>\n",
              "      <td>1</td>\n",
              "      <td>Precious Achiuwa</td>\n",
              "      <td>Regular</td>\n",
              "      <td>2021-22</td>\n",
              "      <td>22</td>\n",
              "      <td>TOR</td>\n",
              "      <td>NBA</td>\n",
              "      <td>C</td>\n",
              "      <td>73</td>\n",
              "      <td>...</td>\n",
              "      <td>0.595</td>\n",
              "      <td>2.0</td>\n",
              "      <td>4.5</td>\n",
              "      <td>6.5</td>\n",
              "      <td>1.1</td>\n",
              "      <td>0.5</td>\n",
              "      <td>0.6</td>\n",
              "      <td>1.2</td>\n",
              "      <td>2.1</td>\n",
              "      <td>9.1</td>\n",
              "    </tr>\n",
              "    <tr>\n",
              "      <th>2</th>\n",
              "      <td>2</td>\n",
              "      <td>1</td>\n",
              "      <td>Precious Achiuwa</td>\n",
              "      <td>Playoff</td>\n",
              "      <td>2020-21</td>\n",
              "      <td>21</td>\n",
              "      <td>MIA</td>\n",
              "      <td>NBA</td>\n",
              "      <td>PF</td>\n",
              "      <td>3</td>\n",
              "      <td>...</td>\n",
              "      <td>0.250</td>\n",
              "      <td>0.0</td>\n",
              "      <td>2.0</td>\n",
              "      <td>2.0</td>\n",
              "      <td>0.0</td>\n",
              "      <td>0.0</td>\n",
              "      <td>0.7</td>\n",
              "      <td>1.3</td>\n",
              "      <td>0.3</td>\n",
              "      <td>2.3</td>\n",
              "    </tr>\n",
              "    <tr>\n",
              "      <th>3</th>\n",
              "      <td>3</td>\n",
              "      <td>1</td>\n",
              "      <td>Precious Achiuwa</td>\n",
              "      <td>Playoff</td>\n",
              "      <td>2021-22</td>\n",
              "      <td>22</td>\n",
              "      <td>TOR</td>\n",
              "      <td>NBA</td>\n",
              "      <td>C</td>\n",
              "      <td>6</td>\n",
              "      <td>...</td>\n",
              "      <td>0.600</td>\n",
              "      <td>1.3</td>\n",
              "      <td>3.5</td>\n",
              "      <td>4.8</td>\n",
              "      <td>1.0</td>\n",
              "      <td>0.2</td>\n",
              "      <td>0.8</td>\n",
              "      <td>1.5</td>\n",
              "      <td>2.3</td>\n",
              "      <td>10.2</td>\n",
              "    </tr>\n",
              "    <tr>\n",
              "      <th>4</th>\n",
              "      <td>0</td>\n",
              "      <td>2</td>\n",
              "      <td>Steven Adams</td>\n",
              "      <td>Regular</td>\n",
              "      <td>2013-14</td>\n",
              "      <td>20</td>\n",
              "      <td>OKC</td>\n",
              "      <td>NBA</td>\n",
              "      <td>C</td>\n",
              "      <td>81</td>\n",
              "      <td>...</td>\n",
              "      <td>0.581</td>\n",
              "      <td>1.8</td>\n",
              "      <td>2.3</td>\n",
              "      <td>4.1</td>\n",
              "      <td>0.5</td>\n",
              "      <td>0.5</td>\n",
              "      <td>0.7</td>\n",
              "      <td>0.9</td>\n",
              "      <td>2.5</td>\n",
              "      <td>3.3</td>\n",
              "    </tr>\n",
              "  </tbody>\n",
              "</table>\n",
              "<p>5 rows × 34 columns</p>\n",
              "</div>\n",
              "      <button class=\"colab-df-convert\" onclick=\"convertToInteractive('df-7027806c-91ea-47ed-a7d9-c62d3e1ea11a')\"\n",
              "              title=\"Convert this dataframe to an interactive table.\"\n",
              "              style=\"display:none;\">\n",
              "        \n",
              "  <svg xmlns=\"http://www.w3.org/2000/svg\" height=\"24px\"viewBox=\"0 0 24 24\"\n",
              "       width=\"24px\">\n",
              "    <path d=\"M0 0h24v24H0V0z\" fill=\"none\"/>\n",
              "    <path d=\"M18.56 5.44l.94 2.06.94-2.06 2.06-.94-2.06-.94-.94-2.06-.94 2.06-2.06.94zm-11 1L8.5 8.5l.94-2.06 2.06-.94-2.06-.94L8.5 2.5l-.94 2.06-2.06.94zm10 10l.94 2.06.94-2.06 2.06-.94-2.06-.94-.94-2.06-.94 2.06-2.06.94z\"/><path d=\"M17.41 7.96l-1.37-1.37c-.4-.4-.92-.59-1.43-.59-.52 0-1.04.2-1.43.59L10.3 9.45l-7.72 7.72c-.78.78-.78 2.05 0 2.83L4 21.41c.39.39.9.59 1.41.59.51 0 1.02-.2 1.41-.59l7.78-7.78 2.81-2.81c.8-.78.8-2.07 0-2.86zM5.41 20L4 18.59l7.72-7.72 1.47 1.35L5.41 20z\"/>\n",
              "  </svg>\n",
              "      </button>\n",
              "      \n",
              "  <style>\n",
              "    .colab-df-container {\n",
              "      display:flex;\n",
              "      flex-wrap:wrap;\n",
              "      gap: 12px;\n",
              "    }\n",
              "\n",
              "    .colab-df-convert {\n",
              "      background-color: #E8F0FE;\n",
              "      border: none;\n",
              "      border-radius: 50%;\n",
              "      cursor: pointer;\n",
              "      display: none;\n",
              "      fill: #1967D2;\n",
              "      height: 32px;\n",
              "      padding: 0 0 0 0;\n",
              "      width: 32px;\n",
              "    }\n",
              "\n",
              "    .colab-df-convert:hover {\n",
              "      background-color: #E2EBFA;\n",
              "      box-shadow: 0px 1px 2px rgba(60, 64, 67, 0.3), 0px 1px 3px 1px rgba(60, 64, 67, 0.15);\n",
              "      fill: #174EA6;\n",
              "    }\n",
              "\n",
              "    [theme=dark] .colab-df-convert {\n",
              "      background-color: #3B4455;\n",
              "      fill: #D2E3FC;\n",
              "    }\n",
              "\n",
              "    [theme=dark] .colab-df-convert:hover {\n",
              "      background-color: #434B5C;\n",
              "      box-shadow: 0px 1px 3px 1px rgba(0, 0, 0, 0.15);\n",
              "      filter: drop-shadow(0px 1px 2px rgba(0, 0, 0, 0.3));\n",
              "      fill: #FFFFFF;\n",
              "    }\n",
              "  </style>\n",
              "\n",
              "      <script>\n",
              "        const buttonEl =\n",
              "          document.querySelector('#df-7027806c-91ea-47ed-a7d9-c62d3e1ea11a button.colab-df-convert');\n",
              "        buttonEl.style.display =\n",
              "          google.colab.kernel.accessAllowed ? 'block' : 'none';\n",
              "\n",
              "        async function convertToInteractive(key) {\n",
              "          const element = document.querySelector('#df-7027806c-91ea-47ed-a7d9-c62d3e1ea11a');\n",
              "          const dataTable =\n",
              "            await google.colab.kernel.invokeFunction('convertToInteractive',\n",
              "                                                     [key], {});\n",
              "          if (!dataTable) return;\n",
              "\n",
              "          const docLinkHtml = 'Like what you see? Visit the ' +\n",
              "            '<a target=\"_blank\" href=https://colab.research.google.com/notebooks/data_table.ipynb>data table notebook</a>'\n",
              "            + ' to learn more about interactive tables.';\n",
              "          element.innerHTML = '';\n",
              "          dataTable['output_type'] = 'display_data';\n",
              "          await google.colab.output.renderOutput(dataTable, element);\n",
              "          const docLink = document.createElement('div');\n",
              "          docLink.innerHTML = docLinkHtml;\n",
              "          element.appendChild(docLink);\n",
              "        }\n",
              "      </script>\n",
              "    </div>\n",
              "  </div>\n",
              "  "
            ]
          },
          "metadata": {},
          "execution_count": 19
        }
      ]
    },
    {
      "cell_type": "markdown",
      "source": [
        "### Step 2.2 - Remove the first column from the dataframe as that isn't necessary"
      ],
      "metadata": {
        "id": "rHvWKRJ53IR1"
      }
    },
    {
      "cell_type": "code",
      "source": [
        "# We see that the index of the dataframe was extracted to the CSV file. Let's remove that column as we won't need that for our analysis\n",
        "\n",
        "df1.drop(columns = ['Unnamed: 0'], inplace = True)\n",
        "df1.columns"
      ],
      "metadata": {
        "colab": {
          "base_uri": "https://localhost:8080/"
        },
        "id": "ixBUCPLCqTSK",
        "outputId": "d1caf187-75cb-437e-95bf-d4249e8cbca9"
      },
      "execution_count": 20,
      "outputs": [
        {
          "output_type": "execute_result",
          "data": {
            "text/plain": [
              "Index(['C1', 'C2', 'C3', 'C4', 'C5', 'C6', 'C7', 'C8', 'C9', 'C10', 'C11',\n",
              "       'C12', 'C13', 'C14', 'C15', 'C16', 'C17', 'C18', 'C19', 'C20', 'C21',\n",
              "       'C22', 'C23', 'C24', 'C25', 'C26', 'C27', 'C28', 'C29', 'C30', 'C31',\n",
              "       'C32', 'C33'],\n",
              "      dtype='object')"
            ]
          },
          "metadata": {},
          "execution_count": 20
        }
      ]
    },
    {
      "cell_type": "markdown",
      "source": [
        "### Step 2.3 - Rename columns of the dataframe."
      ],
      "metadata": {
        "id": "6rgOUGFH3Vnw"
      }
    },
    {
      "cell_type": "code",
      "source": [
        "# We see that the column names C1 to C33 are not meaningful, so let's change those column names as they are described in the Basketball-reference site\n",
        "\n",
        "# First create a dictionary with the old and the corresponding new column names\n",
        "col_dict = {\n",
        "    'C1' : 'player_id', \n",
        "    'C2' : 'player_name', \n",
        "    'C3' : 'season_type', \n",
        "    'C4' : 'season', \n",
        "    'C5' : 'age', \n",
        "    'C6' : 'team', \n",
        "    'C7' : 'league', \n",
        "    'C8' : 'position', \n",
        "    'C9' : 'games_played', \n",
        "    'C10' : 'games_started', \n",
        "    'C11' : 'minutes_per_game',\n",
        "    'C12' : 'field_goals_per_game', \n",
        "    'C13' : 'field_goals_attempts_per_game', \n",
        "    'C14' : 'field_goal_percentage', \n",
        "    'C15' : '3points_per_game', \n",
        "    'C16' : '3points_attempts_per_game', \n",
        "    'C17' : '3points_percentage', \n",
        "    'C18' : '2points_per_game', \n",
        "    'C19' : '2points_attempts_per_game', \n",
        "    'C20' : '2points_percentage', \n",
        "    'C21' : 'effective_field_goal_percentage',\n",
        "    'C22' : 'free_throw_per_game', \n",
        "    'C23' : 'free_throw_attempts_per_game', \n",
        "    'C24' : 'free_throw_percentage', \n",
        "    'C25' : 'offensive_rebound_per_game', \n",
        "    'C26' : 'defensive_rebound_per_game', \n",
        "    'C27' : 'total_rebound_per_game', \n",
        "    'C28' : 'assists_per_game', \n",
        "    'C29' : 'steals_per_game', \n",
        "    'C30' : 'blocks_per_game', \n",
        "    'C31' : 'turnover_per_game',\n",
        "    'C32' : 'foul_per_game', \n",
        "    'C33' : 'points_per_game'\n",
        "}\n",
        "\n",
        "df1.rename(columns = col_dict, inplace = True)\n",
        "\n",
        "df1.columns"
      ],
      "metadata": {
        "colab": {
          "base_uri": "https://localhost:8080/"
        },
        "id": "RPYaSBnbsDfn",
        "outputId": "117b1f99-6db7-4b21-de1d-0ee43d7c45d3"
      },
      "execution_count": 21,
      "outputs": [
        {
          "output_type": "execute_result",
          "data": {
            "text/plain": [
              "Index(['player_id', 'player_name', 'season_type', 'season', 'age', 'team',\n",
              "       'league', 'position', 'games_played', 'games_started',\n",
              "       'minutes_per_game', 'field_goals_per_game',\n",
              "       'field_goals_attempts_per_game', 'field_goal_percentage',\n",
              "       '3points_per_game', '3points_attempts_per_game', '3points_percentage',\n",
              "       '2points_per_game', '2points_attempts_per_game', '2points_percentage',\n",
              "       'effective_field_goal_percentage', 'free_throw_per_game',\n",
              "       'free_throw_attempts_per_game', 'free_throw_percentage',\n",
              "       'offensive_rebound_per_game', 'defensive_rebound_per_game',\n",
              "       'total_rebound_per_game', 'assists_per_game', 'steals_per_game',\n",
              "       'blocks_per_game', 'turnover_per_game', 'foul_per_game',\n",
              "       'points_per_game'],\n",
              "      dtype='object')"
            ]
          },
          "metadata": {},
          "execution_count": 21
        }
      ]
    },
    {
      "cell_type": "markdown",
      "source": [
        "### Step 2.4 - Remove all derived columns from the dataframe."
      ],
      "metadata": {
        "id": "i5QRf26aPFAF"
      }
    },
    {
      "cell_type": "code",
      "source": [
        "# We are going to remove the following derived columns, as we already have their underlying data\n",
        "# 'field_goals_per_game', 'field_goals_attempts_per_game', 'field_goal_percentage', '3points_percentage', '2points_percentage', \n",
        "# 'free_throw_percentage', 'total_rebound_per_game'\n",
        "\n",
        "# Method 1\n",
        "drop_cols = [11, 12, 13, 16, 19, 20, 23, 26]\n",
        "df1.drop(df1.columns[drop_cols], axis= 1, inplace= True)\n",
        "df1.columns\n",
        "\n",
        "# Method 2\n",
        "#drop_cols = ['field_goals_per_game', 'field_goals_attempts_per_game', 'field_goal_percentage', '3points_percentage', '2points_percentage', 'effective_field_goal_percentage', 'free_throw_percentage', 'total_rebound_per_game']\n",
        "#df1.drop(columns= drop_cols, inplace= True)\n",
        "#df1.columns\n",
        "\n",
        "# I prefer menthod 1 above because using the column index is easier than to use the column names, which can be long"
      ],
      "metadata": {
        "colab": {
          "base_uri": "https://localhost:8080/"
        },
        "id": "PZgMPOpU3hYi",
        "outputId": "afb020ea-e0a3-4f11-bcd3-187275ce04ee"
      },
      "execution_count": 23,
      "outputs": [
        {
          "output_type": "execute_result",
          "data": {
            "text/plain": [
              "Index(['player_id', 'player_name', 'season_type', 'season', 'age', 'team',\n",
              "       'league', 'position', 'games_played', 'games_started',\n",
              "       'minutes_per_game', '3points_per_game', '3points_attempts_per_game',\n",
              "       '2points_per_game', '2points_attempts_per_game', 'free_throw_per_game',\n",
              "       'free_throw_attempts_per_game', 'offensive_rebound_per_game',\n",
              "       'defensive_rebound_per_game', 'assists_per_game', 'steals_per_game',\n",
              "       'blocks_per_game', 'turnover_per_game', 'foul_per_game',\n",
              "       'points_per_game'],\n",
              "      dtype='object')"
            ]
          },
          "metadata": {},
          "execution_count": 23
        }
      ]
    },
    {
      "cell_type": "markdown",
      "source": [
        "### Step 2.5 - Create new columns to the dataframe to calculate statics per season based on the per game statistics."
      ],
      "metadata": {
        "id": "Ds2YXqNRPofX"
      }
    },
    {
      "cell_type": "code",
      "source": [
        "# We call df1.info() to check if the existing columns of the dataframe we need to use for the calculation have the right datatype\n",
        "\n",
        "df1['minutes'] = df1['minutes_per_game'] * df1['games_played']\n",
        "df1['3points'] = df1['3points_per_game'] * df1['games_played']\n",
        "df1['3points_attempts'] = df1['3points_attempts_per_game'] * df1['games_played']\n",
        "df1['2points'] = df1['2points_per_game'] * df1['games_played']\n",
        "df1['2points_attempts'] = df1['2points_attempts_per_game'] * df1['games_played']\n",
        "df1['free_throws'] = df1['free_throw_per_game'] * df1['games_played']\n",
        "df1['free_throw_attempts'] = df1['free_throw_attempts_per_game'] * df1['games_played']\n",
        "df1['offensive_rebound'] = df1['offensive_rebound_per_game'] * df1['games_played']\n",
        "df1['defensive_rebound'] = df1['defensive_rebound_per_game'] * df1['games_played']\n",
        "df1['assists'] = df1['assists_per_game'] * df1['games_played']\n",
        "df1['steals'] = df1['steals_per_game'] * df1['games_played']\n",
        "df1['blocks'] = df1['blocks_per_game'] * df1['games_played']\n",
        "df1['turnovers'] = df1['turnover_per_game'] * df1['games_played']\n",
        "df1['fouls'] = df1['foul_per_game'] * df1['games_played']\n",
        "df1['points'] = df1['points_per_game'] * df1['games_played']\n",
        "\n",
        "df1.columns"
      ],
      "metadata": {
        "colab": {
          "base_uri": "https://localhost:8080/"
        },
        "id": "tifDLoEkCKZI",
        "outputId": "661102f6-3217-4f32-f28e-382801bffecb"
      },
      "execution_count": 27,
      "outputs": [
        {
          "output_type": "execute_result",
          "data": {
            "text/plain": [
              "Index(['player_id', 'player_name', 'season_type', 'season', 'age', 'team',\n",
              "       'league', 'position', 'games_played', 'games_started',\n",
              "       'minutes_per_game', '3points_per_game', '3points_attempts_per_game',\n",
              "       '2points_per_game', '2points_attempts_per_game', 'free_throw_per_game',\n",
              "       'free_throw_attempts_per_game', 'offensive_rebound_per_game',\n",
              "       'defensive_rebound_per_game', 'assists_per_game', 'steals_per_game',\n",
              "       'blocks_per_game', 'turnover_per_game', 'foul_per_game',\n",
              "       'points_per_game', 'minutes', '3points', '3points_attempts', '2points',\n",
              "       '2points_attempts', 'free_throws', 'free_throw_attempts',\n",
              "       'offensive_rebound', 'defensive_rebound', 'assists', 'steals', 'blocks',\n",
              "       'turnovers', 'fouls', 'points'],\n",
              "      dtype='object')"
            ]
          },
          "metadata": {},
          "execution_count": 27
        }
      ]
    },
    {
      "cell_type": "markdown",
      "source": [
        "### Step 2.6 - Remove all columns containing per game statistics."
      ],
      "metadata": {
        "id": "BcCYR0HG34VH"
      }
    },
    {
      "cell_type": "code",
      "source": [
        "# We use the method 1 we used earlier, here to drop from 10th column all the way upto the 25th column\n",
        " \n",
        "df1.drop(df1.columns[10:25], axis= 1, inplace= True)\n",
        "df1.columns"
      ],
      "metadata": {
        "colab": {
          "base_uri": "https://localhost:8080/"
        },
        "id": "b_yWHxF2IRw8",
        "outputId": "4b898fff-8fcd-40fc-a4fe-abc14d8f848c"
      },
      "execution_count": 30,
      "outputs": [
        {
          "output_type": "execute_result",
          "data": {
            "text/plain": [
              "Index(['player_id', 'player_name', 'season_type', 'season', 'age', 'team',\n",
              "       'league', 'position', 'games_played', 'games_started', 'minutes',\n",
              "       '3points', '3points_attempts', '2points', '2points_attempts',\n",
              "       'free_throws', 'free_throw_attempts', 'offensive_rebound',\n",
              "       'defensive_rebound', 'assists', 'steals', 'blocks', 'turnovers',\n",
              "       'fouls', 'points'],\n",
              "      dtype='object')"
            ]
          },
          "metadata": {},
          "execution_count": 30
        }
      ]
    },
    {
      "cell_type": "markdown",
      "source": [
        "### Step 2.7 - Review the first few records in the dataframe to make sure everything looks alright. Then check how many records have null value in which columns"
      ],
      "metadata": {
        "id": "TM8BSv2YSSB7"
      }
    },
    {
      "cell_type": "code",
      "source": [
        "#df1. info() # This shows there are 7637 records in the dataframe and 25 columns, and none of the columns have null / NaN value in any record\n",
        "\n",
        "df1.head()"
      ],
      "metadata": {
        "colab": {
          "base_uri": "https://localhost:8080/",
          "height": 386
        },
        "id": "VAMHGnoiJ9l7",
        "outputId": "f4b0e576-a9f8-4e6b-e975-3e7eb70d8032"
      },
      "execution_count": 34,
      "outputs": [
        {
          "output_type": "execute_result",
          "data": {
            "text/plain": [
              "   player_id       player_name season_type   season  age team league position  \\\n",
              "0          1  Precious Achiuwa     Regular  2020-21   21  MIA    NBA       PF   \n",
              "1          1  Precious Achiuwa     Regular  2021-22   22  TOR    NBA        C   \n",
              "2          1  Precious Achiuwa     Playoff  2020-21   21  MIA    NBA       PF   \n",
              "3          1  Precious Achiuwa     Playoff  2021-22   22  TOR    NBA        C   \n",
              "4          2      Steven Adams     Regular  2013-14   20  OKC    NBA        C   \n",
              "\n",
              "   games_played  games_started  ...  free_throws  free_throw_attempts  \\\n",
              "0            61              4  ...         54.9                109.8   \n",
              "1            73             28  ...         80.3                131.4   \n",
              "2             3              0  ...          0.9                  3.9   \n",
              "3             6              1  ...          6.0                 10.2   \n",
              "4            81             20  ...         81.0                137.7   \n",
              "\n",
              "   offensive_rebound  defensive_rebound  assists  steals  blocks  turnovers  \\\n",
              "0               73.2              134.2     30.5    18.3    30.5       42.7   \n",
              "1              146.0              328.5     80.3    36.5    43.8       87.6   \n",
              "2                0.0                6.0      0.0     0.0     2.1        3.9   \n",
              "3                7.8               21.0      6.0     1.2     4.8        9.0   \n",
              "4              145.8              186.3     40.5    40.5    56.7       72.9   \n",
              "\n",
              "   fouls  points  \n",
              "0   91.5   305.0  \n",
              "1  153.3   664.3  \n",
              "2    0.9     6.9  \n",
              "3   13.8    61.2  \n",
              "4  202.5   267.3  \n",
              "\n",
              "[5 rows x 25 columns]"
            ],
            "text/html": [
              "\n",
              "  <div id=\"df-2247d7c0-0ec4-4f85-9541-d14be27a4e02\">\n",
              "    <div class=\"colab-df-container\">\n",
              "      <div>\n",
              "<style scoped>\n",
              "    .dataframe tbody tr th:only-of-type {\n",
              "        vertical-align: middle;\n",
              "    }\n",
              "\n",
              "    .dataframe tbody tr th {\n",
              "        vertical-align: top;\n",
              "    }\n",
              "\n",
              "    .dataframe thead th {\n",
              "        text-align: right;\n",
              "    }\n",
              "</style>\n",
              "<table border=\"1\" class=\"dataframe\">\n",
              "  <thead>\n",
              "    <tr style=\"text-align: right;\">\n",
              "      <th></th>\n",
              "      <th>player_id</th>\n",
              "      <th>player_name</th>\n",
              "      <th>season_type</th>\n",
              "      <th>season</th>\n",
              "      <th>age</th>\n",
              "      <th>team</th>\n",
              "      <th>league</th>\n",
              "      <th>position</th>\n",
              "      <th>games_played</th>\n",
              "      <th>games_started</th>\n",
              "      <th>...</th>\n",
              "      <th>free_throws</th>\n",
              "      <th>free_throw_attempts</th>\n",
              "      <th>offensive_rebound</th>\n",
              "      <th>defensive_rebound</th>\n",
              "      <th>assists</th>\n",
              "      <th>steals</th>\n",
              "      <th>blocks</th>\n",
              "      <th>turnovers</th>\n",
              "      <th>fouls</th>\n",
              "      <th>points</th>\n",
              "    </tr>\n",
              "  </thead>\n",
              "  <tbody>\n",
              "    <tr>\n",
              "      <th>0</th>\n",
              "      <td>1</td>\n",
              "      <td>Precious Achiuwa</td>\n",
              "      <td>Regular</td>\n",
              "      <td>2020-21</td>\n",
              "      <td>21</td>\n",
              "      <td>MIA</td>\n",
              "      <td>NBA</td>\n",
              "      <td>PF</td>\n",
              "      <td>61</td>\n",
              "      <td>4</td>\n",
              "      <td>...</td>\n",
              "      <td>54.9</td>\n",
              "      <td>109.8</td>\n",
              "      <td>73.2</td>\n",
              "      <td>134.2</td>\n",
              "      <td>30.5</td>\n",
              "      <td>18.3</td>\n",
              "      <td>30.5</td>\n",
              "      <td>42.7</td>\n",
              "      <td>91.5</td>\n",
              "      <td>305.0</td>\n",
              "    </tr>\n",
              "    <tr>\n",
              "      <th>1</th>\n",
              "      <td>1</td>\n",
              "      <td>Precious Achiuwa</td>\n",
              "      <td>Regular</td>\n",
              "      <td>2021-22</td>\n",
              "      <td>22</td>\n",
              "      <td>TOR</td>\n",
              "      <td>NBA</td>\n",
              "      <td>C</td>\n",
              "      <td>73</td>\n",
              "      <td>28</td>\n",
              "      <td>...</td>\n",
              "      <td>80.3</td>\n",
              "      <td>131.4</td>\n",
              "      <td>146.0</td>\n",
              "      <td>328.5</td>\n",
              "      <td>80.3</td>\n",
              "      <td>36.5</td>\n",
              "      <td>43.8</td>\n",
              "      <td>87.6</td>\n",
              "      <td>153.3</td>\n",
              "      <td>664.3</td>\n",
              "    </tr>\n",
              "    <tr>\n",
              "      <th>2</th>\n",
              "      <td>1</td>\n",
              "      <td>Precious Achiuwa</td>\n",
              "      <td>Playoff</td>\n",
              "      <td>2020-21</td>\n",
              "      <td>21</td>\n",
              "      <td>MIA</td>\n",
              "      <td>NBA</td>\n",
              "      <td>PF</td>\n",
              "      <td>3</td>\n",
              "      <td>0</td>\n",
              "      <td>...</td>\n",
              "      <td>0.9</td>\n",
              "      <td>3.9</td>\n",
              "      <td>0.0</td>\n",
              "      <td>6.0</td>\n",
              "      <td>0.0</td>\n",
              "      <td>0.0</td>\n",
              "      <td>2.1</td>\n",
              "      <td>3.9</td>\n",
              "      <td>0.9</td>\n",
              "      <td>6.9</td>\n",
              "    </tr>\n",
              "    <tr>\n",
              "      <th>3</th>\n",
              "      <td>1</td>\n",
              "      <td>Precious Achiuwa</td>\n",
              "      <td>Playoff</td>\n",
              "      <td>2021-22</td>\n",
              "      <td>22</td>\n",
              "      <td>TOR</td>\n",
              "      <td>NBA</td>\n",
              "      <td>C</td>\n",
              "      <td>6</td>\n",
              "      <td>1</td>\n",
              "      <td>...</td>\n",
              "      <td>6.0</td>\n",
              "      <td>10.2</td>\n",
              "      <td>7.8</td>\n",
              "      <td>21.0</td>\n",
              "      <td>6.0</td>\n",
              "      <td>1.2</td>\n",
              "      <td>4.8</td>\n",
              "      <td>9.0</td>\n",
              "      <td>13.8</td>\n",
              "      <td>61.2</td>\n",
              "    </tr>\n",
              "    <tr>\n",
              "      <th>4</th>\n",
              "      <td>2</td>\n",
              "      <td>Steven Adams</td>\n",
              "      <td>Regular</td>\n",
              "      <td>2013-14</td>\n",
              "      <td>20</td>\n",
              "      <td>OKC</td>\n",
              "      <td>NBA</td>\n",
              "      <td>C</td>\n",
              "      <td>81</td>\n",
              "      <td>20</td>\n",
              "      <td>...</td>\n",
              "      <td>81.0</td>\n",
              "      <td>137.7</td>\n",
              "      <td>145.8</td>\n",
              "      <td>186.3</td>\n",
              "      <td>40.5</td>\n",
              "      <td>40.5</td>\n",
              "      <td>56.7</td>\n",
              "      <td>72.9</td>\n",
              "      <td>202.5</td>\n",
              "      <td>267.3</td>\n",
              "    </tr>\n",
              "  </tbody>\n",
              "</table>\n",
              "<p>5 rows × 25 columns</p>\n",
              "</div>\n",
              "      <button class=\"colab-df-convert\" onclick=\"convertToInteractive('df-2247d7c0-0ec4-4f85-9541-d14be27a4e02')\"\n",
              "              title=\"Convert this dataframe to an interactive table.\"\n",
              "              style=\"display:none;\">\n",
              "        \n",
              "  <svg xmlns=\"http://www.w3.org/2000/svg\" height=\"24px\"viewBox=\"0 0 24 24\"\n",
              "       width=\"24px\">\n",
              "    <path d=\"M0 0h24v24H0V0z\" fill=\"none\"/>\n",
              "    <path d=\"M18.56 5.44l.94 2.06.94-2.06 2.06-.94-2.06-.94-.94-2.06-.94 2.06-2.06.94zm-11 1L8.5 8.5l.94-2.06 2.06-.94-2.06-.94L8.5 2.5l-.94 2.06-2.06.94zm10 10l.94 2.06.94-2.06 2.06-.94-2.06-.94-.94-2.06-.94 2.06-2.06.94z\"/><path d=\"M17.41 7.96l-1.37-1.37c-.4-.4-.92-.59-1.43-.59-.52 0-1.04.2-1.43.59L10.3 9.45l-7.72 7.72c-.78.78-.78 2.05 0 2.83L4 21.41c.39.39.9.59 1.41.59.51 0 1.02-.2 1.41-.59l7.78-7.78 2.81-2.81c.8-.78.8-2.07 0-2.86zM5.41 20L4 18.59l7.72-7.72 1.47 1.35L5.41 20z\"/>\n",
              "  </svg>\n",
              "      </button>\n",
              "      \n",
              "  <style>\n",
              "    .colab-df-container {\n",
              "      display:flex;\n",
              "      flex-wrap:wrap;\n",
              "      gap: 12px;\n",
              "    }\n",
              "\n",
              "    .colab-df-convert {\n",
              "      background-color: #E8F0FE;\n",
              "      border: none;\n",
              "      border-radius: 50%;\n",
              "      cursor: pointer;\n",
              "      display: none;\n",
              "      fill: #1967D2;\n",
              "      height: 32px;\n",
              "      padding: 0 0 0 0;\n",
              "      width: 32px;\n",
              "    }\n",
              "\n",
              "    .colab-df-convert:hover {\n",
              "      background-color: #E2EBFA;\n",
              "      box-shadow: 0px 1px 2px rgba(60, 64, 67, 0.3), 0px 1px 3px 1px rgba(60, 64, 67, 0.15);\n",
              "      fill: #174EA6;\n",
              "    }\n",
              "\n",
              "    [theme=dark] .colab-df-convert {\n",
              "      background-color: #3B4455;\n",
              "      fill: #D2E3FC;\n",
              "    }\n",
              "\n",
              "    [theme=dark] .colab-df-convert:hover {\n",
              "      background-color: #434B5C;\n",
              "      box-shadow: 0px 1px 3px 1px rgba(0, 0, 0, 0.15);\n",
              "      filter: drop-shadow(0px 1px 2px rgba(0, 0, 0, 0.3));\n",
              "      fill: #FFFFFF;\n",
              "    }\n",
              "  </style>\n",
              "\n",
              "      <script>\n",
              "        const buttonEl =\n",
              "          document.querySelector('#df-2247d7c0-0ec4-4f85-9541-d14be27a4e02 button.colab-df-convert');\n",
              "        buttonEl.style.display =\n",
              "          google.colab.kernel.accessAllowed ? 'block' : 'none';\n",
              "\n",
              "        async function convertToInteractive(key) {\n",
              "          const element = document.querySelector('#df-2247d7c0-0ec4-4f85-9541-d14be27a4e02');\n",
              "          const dataTable =\n",
              "            await google.colab.kernel.invokeFunction('convertToInteractive',\n",
              "                                                     [key], {});\n",
              "          if (!dataTable) return;\n",
              "\n",
              "          const docLinkHtml = 'Like what you see? Visit the ' +\n",
              "            '<a target=\"_blank\" href=https://colab.research.google.com/notebooks/data_table.ipynb>data table notebook</a>'\n",
              "            + ' to learn more about interactive tables.';\n",
              "          element.innerHTML = '';\n",
              "          dataTable['output_type'] = 'display_data';\n",
              "          await google.colab.output.renderOutput(dataTable, element);\n",
              "          const docLink = document.createElement('div');\n",
              "          docLink.innerHTML = docLinkHtml;\n",
              "          element.appendChild(docLink);\n",
              "        }\n",
              "      </script>\n",
              "    </div>\n",
              "  </div>\n",
              "  "
            ]
          },
          "metadata": {},
          "execution_count": 34
        }
      ]
    },
    {
      "cell_type": "markdown",
      "source": [
        "### Step 9 - By printing the name of each player in the above block, we found that the code is getting error for the player name 'Thanasis Antetokounmpo'. Upon manually checking his individual career page we found that he did not play for certain years and hence have no data for those years. To accomodate that issue, let's modify the function we created to fetch the career statistics of each player."
      ],
      "metadata": {
        "id": "Quw-r2d5VcgE"
      }
    },
    {
      "cell_type": "markdown",
      "source": [
        "### Step 10 - Repeat the step 8 above to collect the entire career statistics of every player played in the 2021-22 season and store that into a dataframe. Only this time we will call the updated function we created in step 9 above.."
      ],
      "metadata": {
        "id": "cAVxJZzuaCf0"
      }
    },
    {
      "cell_type": "markdown",
      "source": [
        "### Step 11 - The above code took about 4 minute 30 seconds to collect the entire career statistics of each player played in the 2021-22 season and store that to a dataframe. Now let's inspect the dataframe and then save it to a CSV file for future analysis."
      ],
      "metadata": {
        "id": "UEQ2nqBbcWNL"
      }
    }
  ]
}