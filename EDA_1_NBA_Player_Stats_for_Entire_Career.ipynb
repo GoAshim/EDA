{
  "nbformat": 4,
  "nbformat_minor": 0,
  "metadata": {
    "colab": {
      "name": "EDA 1 - NBA Player Stats for Entire Career.ipynb",
      "provenance": [],
      "collapsed_sections": [],
      "mount_file_id": "1TK3qRni5SzEme12joMukSvwKbGBqAR9U",
      "authorship_tag": "ABX9TyMSsC1TIBDBOPiF2c+1y7r1",
      "include_colab_link": true
    },
    "kernelspec": {
      "name": "python3",
      "display_name": "Python 3"
    },
    "language_info": {
      "name": "python"
    }
  },
  "cells": [
    {
      "cell_type": "markdown",
      "metadata": {
        "id": "view-in-github",
        "colab_type": "text"
      },
      "source": [
        "<a href=\"https://colab.research.google.com/github/GoAshim/EDA/blob/main/EDA_1_NBA_Player_Stats_for_Entire_Career.ipynb\" target=\"_parent\"><img src=\"https://colab.research.google.com/assets/colab-badge.svg\" alt=\"Open In Colab\"/></a>"
      ]
    },
    {
      "cell_type": "markdown",
      "source": [
        "# Scrap the entire career statistics of all NBA Players played in 2021-22 season.\n",
        "In this web scraping exercise we will revisit what we did on our first assignment and take it further. We are going to start with the page containing the 2021-22 NBA Player Stats from Basketball Reference site (link [here](https://www.basketball-reference.com/leagues/NBA_2022_totals.html)). Instead of scraping the statistics of only 2021-22 season (as we did on our first exercise), we are going to find each player played in 2021-22 season from the table in the link mentioned above, then go to the page of each individual player and scrap the statistics of their entire career.\n",
        "\n",
        "\n",
        "## Summary\n",
        "Basketball Reference has provided the stats of all NBA players for the 2021-22 season in tabular form on the above link. We are going to identify the table, find out the URL link of every player from that table, then for each player we will go to their respective URL to scrap relevant data and load that on a dataframe. At the end the dataframe will have the the entire career statistics of all NBA Players played in 2021-22 season."
      ],
      "metadata": {
        "id": "R8tmRRaRDY6Z"
      }
    },
    {
      "cell_type": "markdown",
      "source": [
        "### Step 1 - Import required libraries"
      ],
      "metadata": {
        "id": "jQ5vvlR42Aal"
      }
    },
    {
      "cell_type": "code",
      "source": [
        "import pandas as pd \n"
      ],
      "metadata": {
        "id": "7ydKpW-nDo9B"
      },
      "execution_count": 1,
      "outputs": []
    },
    {
      "cell_type": "markdown",
      "source": [
        "### Step 2 - Extract the content of the CSV data file and load to a dataframe"
      ],
      "metadata": {
        "id": "uF0LrCTf2jlP"
      }
    },
    {
      "cell_type": "code",
      "source": [
        "# Location of the CSV file in my Google Drive\n",
        "url = \"/content/drive/MyDrive/DataFiles/NBAPlayerStat.csv\"\n",
        "\n",
        "df1 = pd.read_csv(url)\n",
        "\n",
        "df1.head()"
      ],
      "metadata": {
        "id": "pv0O3BDfHcrR",
        "colab": {
          "base_uri": "https://localhost:8080/",
          "height": 235
        },
        "outputId": "27e3ce2a-4f56-413a-d263-00a5074e651f"
      },
      "execution_count": 5,
      "outputs": [
        {
          "output_type": "execute_result",
          "data": {
            "text/plain": [
              "   Unnamed: 0  C1                C2       C3       C4  C5   C6   C7  C8  C9  \\\n",
              "0           0   1  Precious Achiuwa  Regular  2020-21  21  MIA  NBA  PF  61   \n",
              "1           1   1  Precious Achiuwa  Regular  2021-22  22  TOR  NBA   C  73   \n",
              "2           2   1  Precious Achiuwa  Playoff  2020-21  21  MIA  NBA  PF   3   \n",
              "3           3   1  Precious Achiuwa  Playoff  2021-22  22  TOR  NBA   C   6   \n",
              "4           0   2      Steven Adams  Regular  2013-14  20  OKC  NBA   C  81   \n",
              "\n",
              "   ...    C24  C25  C26  C27  C28  C29  C30  C31  C32   C33  \n",
              "0  ...  0.509  1.2  2.2  3.4  0.5  0.3  0.5  0.7  1.5   5.0  \n",
              "1  ...  0.595  2.0  4.5  6.5  1.1  0.5  0.6  1.2  2.1   9.1  \n",
              "2  ...  0.250  0.0  2.0  2.0  0.0  0.0  0.7  1.3  0.3   2.3  \n",
              "3  ...  0.600  1.3  3.5  4.8  1.0  0.2  0.8  1.5  2.3  10.2  \n",
              "4  ...  0.581  1.8  2.3  4.1  0.5  0.5  0.7  0.9  2.5   3.3  \n",
              "\n",
              "[5 rows x 34 columns]"
            ],
            "text/html": [
              "\n",
              "  <div id=\"df-ae70d0ad-21a7-450b-b6f6-de2d2b2c399c\">\n",
              "    <div class=\"colab-df-container\">\n",
              "      <div>\n",
              "<style scoped>\n",
              "    .dataframe tbody tr th:only-of-type {\n",
              "        vertical-align: middle;\n",
              "    }\n",
              "\n",
              "    .dataframe tbody tr th {\n",
              "        vertical-align: top;\n",
              "    }\n",
              "\n",
              "    .dataframe thead th {\n",
              "        text-align: right;\n",
              "    }\n",
              "</style>\n",
              "<table border=\"1\" class=\"dataframe\">\n",
              "  <thead>\n",
              "    <tr style=\"text-align: right;\">\n",
              "      <th></th>\n",
              "      <th>Unnamed: 0</th>\n",
              "      <th>C1</th>\n",
              "      <th>C2</th>\n",
              "      <th>C3</th>\n",
              "      <th>C4</th>\n",
              "      <th>C5</th>\n",
              "      <th>C6</th>\n",
              "      <th>C7</th>\n",
              "      <th>C8</th>\n",
              "      <th>C9</th>\n",
              "      <th>...</th>\n",
              "      <th>C24</th>\n",
              "      <th>C25</th>\n",
              "      <th>C26</th>\n",
              "      <th>C27</th>\n",
              "      <th>C28</th>\n",
              "      <th>C29</th>\n",
              "      <th>C30</th>\n",
              "      <th>C31</th>\n",
              "      <th>C32</th>\n",
              "      <th>C33</th>\n",
              "    </tr>\n",
              "  </thead>\n",
              "  <tbody>\n",
              "    <tr>\n",
              "      <th>0</th>\n",
              "      <td>0</td>\n",
              "      <td>1</td>\n",
              "      <td>Precious Achiuwa</td>\n",
              "      <td>Regular</td>\n",
              "      <td>2020-21</td>\n",
              "      <td>21</td>\n",
              "      <td>MIA</td>\n",
              "      <td>NBA</td>\n",
              "      <td>PF</td>\n",
              "      <td>61</td>\n",
              "      <td>...</td>\n",
              "      <td>0.509</td>\n",
              "      <td>1.2</td>\n",
              "      <td>2.2</td>\n",
              "      <td>3.4</td>\n",
              "      <td>0.5</td>\n",
              "      <td>0.3</td>\n",
              "      <td>0.5</td>\n",
              "      <td>0.7</td>\n",
              "      <td>1.5</td>\n",
              "      <td>5.0</td>\n",
              "    </tr>\n",
              "    <tr>\n",
              "      <th>1</th>\n",
              "      <td>1</td>\n",
              "      <td>1</td>\n",
              "      <td>Precious Achiuwa</td>\n",
              "      <td>Regular</td>\n",
              "      <td>2021-22</td>\n",
              "      <td>22</td>\n",
              "      <td>TOR</td>\n",
              "      <td>NBA</td>\n",
              "      <td>C</td>\n",
              "      <td>73</td>\n",
              "      <td>...</td>\n",
              "      <td>0.595</td>\n",
              "      <td>2.0</td>\n",
              "      <td>4.5</td>\n",
              "      <td>6.5</td>\n",
              "      <td>1.1</td>\n",
              "      <td>0.5</td>\n",
              "      <td>0.6</td>\n",
              "      <td>1.2</td>\n",
              "      <td>2.1</td>\n",
              "      <td>9.1</td>\n",
              "    </tr>\n",
              "    <tr>\n",
              "      <th>2</th>\n",
              "      <td>2</td>\n",
              "      <td>1</td>\n",
              "      <td>Precious Achiuwa</td>\n",
              "      <td>Playoff</td>\n",
              "      <td>2020-21</td>\n",
              "      <td>21</td>\n",
              "      <td>MIA</td>\n",
              "      <td>NBA</td>\n",
              "      <td>PF</td>\n",
              "      <td>3</td>\n",
              "      <td>...</td>\n",
              "      <td>0.250</td>\n",
              "      <td>0.0</td>\n",
              "      <td>2.0</td>\n",
              "      <td>2.0</td>\n",
              "      <td>0.0</td>\n",
              "      <td>0.0</td>\n",
              "      <td>0.7</td>\n",
              "      <td>1.3</td>\n",
              "      <td>0.3</td>\n",
              "      <td>2.3</td>\n",
              "    </tr>\n",
              "    <tr>\n",
              "      <th>3</th>\n",
              "      <td>3</td>\n",
              "      <td>1</td>\n",
              "      <td>Precious Achiuwa</td>\n",
              "      <td>Playoff</td>\n",
              "      <td>2021-22</td>\n",
              "      <td>22</td>\n",
              "      <td>TOR</td>\n",
              "      <td>NBA</td>\n",
              "      <td>C</td>\n",
              "      <td>6</td>\n",
              "      <td>...</td>\n",
              "      <td>0.600</td>\n",
              "      <td>1.3</td>\n",
              "      <td>3.5</td>\n",
              "      <td>4.8</td>\n",
              "      <td>1.0</td>\n",
              "      <td>0.2</td>\n",
              "      <td>0.8</td>\n",
              "      <td>1.5</td>\n",
              "      <td>2.3</td>\n",
              "      <td>10.2</td>\n",
              "    </tr>\n",
              "    <tr>\n",
              "      <th>4</th>\n",
              "      <td>0</td>\n",
              "      <td>2</td>\n",
              "      <td>Steven Adams</td>\n",
              "      <td>Regular</td>\n",
              "      <td>2013-14</td>\n",
              "      <td>20</td>\n",
              "      <td>OKC</td>\n",
              "      <td>NBA</td>\n",
              "      <td>C</td>\n",
              "      <td>81</td>\n",
              "      <td>...</td>\n",
              "      <td>0.581</td>\n",
              "      <td>1.8</td>\n",
              "      <td>2.3</td>\n",
              "      <td>4.1</td>\n",
              "      <td>0.5</td>\n",
              "      <td>0.5</td>\n",
              "      <td>0.7</td>\n",
              "      <td>0.9</td>\n",
              "      <td>2.5</td>\n",
              "      <td>3.3</td>\n",
              "    </tr>\n",
              "  </tbody>\n",
              "</table>\n",
              "<p>5 rows × 34 columns</p>\n",
              "</div>\n",
              "      <button class=\"colab-df-convert\" onclick=\"convertToInteractive('df-ae70d0ad-21a7-450b-b6f6-de2d2b2c399c')\"\n",
              "              title=\"Convert this dataframe to an interactive table.\"\n",
              "              style=\"display:none;\">\n",
              "        \n",
              "  <svg xmlns=\"http://www.w3.org/2000/svg\" height=\"24px\"viewBox=\"0 0 24 24\"\n",
              "       width=\"24px\">\n",
              "    <path d=\"M0 0h24v24H0V0z\" fill=\"none\"/>\n",
              "    <path d=\"M18.56 5.44l.94 2.06.94-2.06 2.06-.94-2.06-.94-.94-2.06-.94 2.06-2.06.94zm-11 1L8.5 8.5l.94-2.06 2.06-.94-2.06-.94L8.5 2.5l-.94 2.06-2.06.94zm10 10l.94 2.06.94-2.06 2.06-.94-2.06-.94-.94-2.06-.94 2.06-2.06.94z\"/><path d=\"M17.41 7.96l-1.37-1.37c-.4-.4-.92-.59-1.43-.59-.52 0-1.04.2-1.43.59L10.3 9.45l-7.72 7.72c-.78.78-.78 2.05 0 2.83L4 21.41c.39.39.9.59 1.41.59.51 0 1.02-.2 1.41-.59l7.78-7.78 2.81-2.81c.8-.78.8-2.07 0-2.86zM5.41 20L4 18.59l7.72-7.72 1.47 1.35L5.41 20z\"/>\n",
              "  </svg>\n",
              "      </button>\n",
              "      \n",
              "  <style>\n",
              "    .colab-df-container {\n",
              "      display:flex;\n",
              "      flex-wrap:wrap;\n",
              "      gap: 12px;\n",
              "    }\n",
              "\n",
              "    .colab-df-convert {\n",
              "      background-color: #E8F0FE;\n",
              "      border: none;\n",
              "      border-radius: 50%;\n",
              "      cursor: pointer;\n",
              "      display: none;\n",
              "      fill: #1967D2;\n",
              "      height: 32px;\n",
              "      padding: 0 0 0 0;\n",
              "      width: 32px;\n",
              "    }\n",
              "\n",
              "    .colab-df-convert:hover {\n",
              "      background-color: #E2EBFA;\n",
              "      box-shadow: 0px 1px 2px rgba(60, 64, 67, 0.3), 0px 1px 3px 1px rgba(60, 64, 67, 0.15);\n",
              "      fill: #174EA6;\n",
              "    }\n",
              "\n",
              "    [theme=dark] .colab-df-convert {\n",
              "      background-color: #3B4455;\n",
              "      fill: #D2E3FC;\n",
              "    }\n",
              "\n",
              "    [theme=dark] .colab-df-convert:hover {\n",
              "      background-color: #434B5C;\n",
              "      box-shadow: 0px 1px 3px 1px rgba(0, 0, 0, 0.15);\n",
              "      filter: drop-shadow(0px 1px 2px rgba(0, 0, 0, 0.3));\n",
              "      fill: #FFFFFF;\n",
              "    }\n",
              "  </style>\n",
              "\n",
              "      <script>\n",
              "        const buttonEl =\n",
              "          document.querySelector('#df-ae70d0ad-21a7-450b-b6f6-de2d2b2c399c button.colab-df-convert');\n",
              "        buttonEl.style.display =\n",
              "          google.colab.kernel.accessAllowed ? 'block' : 'none';\n",
              "\n",
              "        async function convertToInteractive(key) {\n",
              "          const element = document.querySelector('#df-ae70d0ad-21a7-450b-b6f6-de2d2b2c399c');\n",
              "          const dataTable =\n",
              "            await google.colab.kernel.invokeFunction('convertToInteractive',\n",
              "                                                     [key], {});\n",
              "          if (!dataTable) return;\n",
              "\n",
              "          const docLinkHtml = 'Like what you see? Visit the ' +\n",
              "            '<a target=\"_blank\" href=https://colab.research.google.com/notebooks/data_table.ipynb>data table notebook</a>'\n",
              "            + ' to learn more about interactive tables.';\n",
              "          element.innerHTML = '';\n",
              "          dataTable['output_type'] = 'display_data';\n",
              "          await google.colab.output.renderOutput(dataTable, element);\n",
              "          const docLink = document.createElement('div');\n",
              "          docLink.innerHTML = docLinkHtml;\n",
              "          element.appendChild(docLink);\n",
              "        }\n",
              "      </script>\n",
              "    </div>\n",
              "  </div>\n",
              "  "
            ]
          },
          "metadata": {},
          "execution_count": 5
        }
      ]
    },
    {
      "cell_type": "markdown",
      "source": [
        "### Step 3 - Locate the table within the starting page where the stats of all players in 2021-22 season are listed"
      ],
      "metadata": {
        "id": "rHvWKRJ53IR1"
      }
    },
    {
      "cell_type": "markdown",
      "source": [
        "### Step 4 - Print the name and the link of the individual page for the first 5 players in the 2021-22 season."
      ],
      "metadata": {
        "id": "6rgOUGFH3Vnw"
      }
    },
    {
      "cell_type": "markdown",
      "source": [
        "### Step 5 - Extract the entire career statistics of one player of both regular as well as playoff season, if applicable."
      ],
      "metadata": {
        "id": "i5QRf26aPFAF"
      }
    },
    {
      "cell_type": "markdown",
      "source": [
        "### Step 6 - Create a function which will take parameters of each player and will find the career statistics of that player of both regular as well as playoff season, if applicable. The function will populate that career statistics into a dataframe and will return that dataframe."
      ],
      "metadata": {
        "id": "Ds2YXqNRPofX"
      }
    },
    {
      "cell_type": "markdown",
      "source": [
        "### Step 7 - Loop through the table containing the statistics of 2021-22 season of every players from the main page. Pass the info of first 5 players to the function created above to store the statistics of entire career of every player into a dataframe."
      ],
      "metadata": {
        "id": "BcCYR0HG34VH"
      }
    },
    {
      "cell_type": "markdown",
      "source": [
        "### Step 8 - Repeat the above step to collect the entire career statistics of every player played in the 2021-22 season and store that into a dataframe. We will print the name of each player, that way if the code fails while executing due to some missing tag, we will know for which player that happened."
      ],
      "metadata": {
        "id": "TM8BSv2YSSB7"
      }
    },
    {
      "cell_type": "markdown",
      "source": [
        "### Step 9 - By printing the name of each player in the above block, we found that the code is getting error for the player name 'Thanasis Antetokounmpo'. Upon manually checking his individual career page we found that he did not play for certain years and hence have no data for those years. To accomodate that issue, let's modify the function we created to fetch the career statistics of each player."
      ],
      "metadata": {
        "id": "Quw-r2d5VcgE"
      }
    },
    {
      "cell_type": "markdown",
      "source": [
        "### Step 10 - Repeat the step 8 above to collect the entire career statistics of every player played in the 2021-22 season and store that into a dataframe. Only this time we will call the updated function we created in step 9 above.."
      ],
      "metadata": {
        "id": "cAVxJZzuaCf0"
      }
    },
    {
      "cell_type": "markdown",
      "source": [
        "### Step 11 - The above code took about 4 minute 30 seconds to collect the entire career statistics of each player played in the 2021-22 season and store that to a dataframe. Now let's inspect the dataframe and then save it to a CSV file for future analysis."
      ],
      "metadata": {
        "id": "UEQ2nqBbcWNL"
      }
    }
  ]
}